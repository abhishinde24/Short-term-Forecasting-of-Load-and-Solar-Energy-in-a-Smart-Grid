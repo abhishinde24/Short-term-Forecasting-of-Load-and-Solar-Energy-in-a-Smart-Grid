{
  "metadata": {
    "kernelspec": {
      "language": "python",
      "display_name": "Python 3",
      "name": "python3"
    },
    "language_info": {
      "pygments_lexer": "ipython3",
      "nbconvert_exporter": "python",
      "version": "3.6.4",
      "file_extension": ".py",
      "codemirror_mode": {
        "name": "ipython",
        "version": 3
      },
      "name": "python",
      "mimetype": "text/x-python"
    },
    "colab": {
      "name": "ew-brown-solar-data.ipynb",
      "provenance": [],
      "include_colab_link": true
    }
  },
  "nbformat_minor": 0,
  "nbformat": 4,
  "cells": [
    {
      "cell_type": "markdown",
      "metadata": {
        "id": "view-in-github",
        "colab_type": "text"
      },
      "source": [
        "<a href=\"https://colab.research.google.com/github/abhishinde24/Short-term-Forecasting-of-Load-and-Solar-Energy-in-a-Smart-Grid/blob/main/ew_brown_solar_data.ipynb\" target=\"_parent\"><img src=\"https://colab.research.google.com/assets/colab-badge.svg\" alt=\"Open In Colab\"/></a>"
      ]
    },
    {
      "cell_type": "code",
      "source": [
        "# # This Python 3 environment comes with many helpful analytics libraries installed\n",
        "# # It is defined by the kaggle/python Docker image: https://github.com/kaggle/docker-python\n",
        "# # For example, here's several helpful packages to load\n",
        "\n",
        "# import numpy as np # linear algebra\n",
        "# import pandas as pd # data processing, CSV file I/O (e.g. pd.read_csv)\n",
        "\n",
        "# # Input data files are available in the read-only \"../input/\" directory\n",
        "# # For example, running this (by clicking run or pressing Shift+Enter) will list all files under the input directory\n",
        "\n",
        "# import os\n",
        "# for dirname, _, filenames in os.walk('/kaggle/input'):\n",
        "#     for filename in filenames:\n",
        "#         print(os.path.join(dirname, filename))\n",
        "\n",
        "# # You can write up to 20GB to the current directory (/kaggle/working/) that gets preserved as output when you create a version using \"Save & Run All\" \n",
        "# # You can also write temporary files to /kaggle/temp/, but they won't be saved outside of the current session"
      ],
      "metadata": {
        "_uuid": "8f2839f25d086af736a60e9eeb907d3b93b6e0e5",
        "_cell_guid": "b1076dfc-b9ad-4769-8c92-a6c4dae69d19",
        "execution": {
          "iopub.status.busy": "2022-04-11T08:22:05.606019Z",
          "iopub.execute_input": "2022-04-11T08:22:05.607265Z",
          "iopub.status.idle": "2022-04-11T08:22:05.650412Z",
          "shell.execute_reply.started": "2022-04-11T08:22:05.607125Z",
          "shell.execute_reply": "2022-04-11T08:22:05.649541Z"
        },
        "trusted": true,
        "id": "MDLTR3_5rtTN"
      },
      "execution_count": null,
      "outputs": []
    },
    {
      "cell_type": "code",
      "source": [
        "import pandas as pd\n",
        "import io\n",
        "df = pd.read_csv('/content/sample_data/hourly_data_hour_2017 _(2).csv',infer_datetime_format=True,parse_dates=['Timestamp'],index_col=['Timestamp'])\n",
        "# df = pd.read_csv(io.BytesIO(uploaded['dataest01.xlsx']),encoding= 'unicode_escape')\n"
      ],
      "metadata": {
        "execution": {
          "iopub.status.busy": "2022-04-12T00:41:23.449605Z",
          "iopub.execute_input": "2022-04-12T00:41:23.450459Z",
          "iopub.status.idle": "2022-04-12T00:41:24.313506Z",
          "shell.execute_reply.started": "2022-04-12T00:41:23.450359Z",
          "shell.execute_reply": "2022-04-12T00:41:24.312394Z"
        },
        "trusted": true,
        "id": "ACKC_bx4rtTP"
      },
      "execution_count": null,
      "outputs": []
    },
    {
      "cell_type": "code",
      "source": [
        "# df.isnull().sum()\n",
        "df.head(-1)"
      ],
      "metadata": {
        "execution": {
          "iopub.status.busy": "2022-04-12T00:41:35.624614Z",
          "iopub.execute_input": "2022-04-12T00:41:35.624979Z",
          "iopub.status.idle": "2022-04-12T00:41:35.65144Z",
          "shell.execute_reply.started": "2022-04-12T00:41:35.62494Z",
          "shell.execute_reply": "2022-04-12T00:41:35.650419Z"
        },
        "trusted": true,
        "id": "rpsfHgD9rtTQ",
        "colab": {
          "base_uri": "https://localhost:8080/",
          "height": 454
        },
        "outputId": "593f618e-3987-4851-a56f-a4b152b08140"
      },
      "execution_count": null,
      "outputs": [
        {
          "output_type": "execute_result",
          "data": {
            "text/plain": [
              "                         POAI       GHI       TmpF       TmpC    RH2M  \\\n",
              "Timestamp                                                               \n",
              "2017-01-01 00:00:00  0.125905  0.275391  41.192631   5.107017   99.81   \n",
              "2017-01-01 01:00:00  0.227239  0.334206  41.333620   5.185344   99.00   \n",
              "2017-01-01 02:00:00  0.328573  0.393020  41.474609   5.263672   98.00   \n",
              "2017-01-01 03:00:00  0.429907  0.451835  41.615598   5.341999  100.00   \n",
              "2017-01-01 04:00:00  0.531242  0.510649  41.756587   5.420326  100.00   \n",
              "...                       ...       ...        ...        ...     ...   \n",
              "2017-12-31 18:00:00 -0.978869 -0.891097  15.385695  -9.230170   68.81   \n",
              "2017-12-31 19:00:00 -1.054464 -0.975144  13.923586 -10.042452   72.12   \n",
              "2017-12-31 20:00:00 -0.662855 -0.964197  13.218852 -10.433971   74.81   \n",
              "2017-12-31 21:00:00 -0.333437 -0.750432  12.628234 -10.762092   77.25   \n",
              "2017-12-31 22:00:00 -0.069516 -0.460188  12.037616 -11.090213   78.69   \n",
              "\n",
              "                     ALLSKY_SFC_LW_DWN  EKPC_MW  solar_generation  \n",
              "Timestamp                                                          \n",
              "2017-01-01 00:00:00             322.52     1165      5.552635e+05  \n",
              "2017-01-01 01:00:00             319.42     1437      5.552646e+05  \n",
              "2017-01-01 02:00:00             322.35     1402      5.552652e+05  \n",
              "2017-01-01 03:00:00             324.80     1365      5.552641e+05  \n",
              "2017-01-01 04:00:00             322.77     1344      5.552651e+05  \n",
              "...                                ...      ...               ...  \n",
              "2017-12-31 18:00:00             198.48     2505      1.282277e+06  \n",
              "2017-12-31 19:00:00             200.30     2614      1.282256e+06  \n",
              "2017-12-31 20:00:00             209.88     2633      1.282243e+06  \n",
              "2017-12-31 21:00:00             209.35     2632      1.282246e+06  \n",
              "2017-12-31 22:00:00             210.58     2648      1.282247e+06  \n",
              "\n",
              "[8759 rows x 8 columns]"
            ],
            "text/html": [
              "\n",
              "  <div id=\"df-a44b848c-9424-4c02-950e-b13e30405137\">\n",
              "    <div class=\"colab-df-container\">\n",
              "      <div>\n",
              "<style scoped>\n",
              "    .dataframe tbody tr th:only-of-type {\n",
              "        vertical-align: middle;\n",
              "    }\n",
              "\n",
              "    .dataframe tbody tr th {\n",
              "        vertical-align: top;\n",
              "    }\n",
              "\n",
              "    .dataframe thead th {\n",
              "        text-align: right;\n",
              "    }\n",
              "</style>\n",
              "<table border=\"1\" class=\"dataframe\">\n",
              "  <thead>\n",
              "    <tr style=\"text-align: right;\">\n",
              "      <th></th>\n",
              "      <th>POAI</th>\n",
              "      <th>GHI</th>\n",
              "      <th>TmpF</th>\n",
              "      <th>TmpC</th>\n",
              "      <th>RH2M</th>\n",
              "      <th>ALLSKY_SFC_LW_DWN</th>\n",
              "      <th>EKPC_MW</th>\n",
              "      <th>solar_generation</th>\n",
              "    </tr>\n",
              "    <tr>\n",
              "      <th>Timestamp</th>\n",
              "      <th></th>\n",
              "      <th></th>\n",
              "      <th></th>\n",
              "      <th></th>\n",
              "      <th></th>\n",
              "      <th></th>\n",
              "      <th></th>\n",
              "      <th></th>\n",
              "    </tr>\n",
              "  </thead>\n",
              "  <tbody>\n",
              "    <tr>\n",
              "      <th>2017-01-01 00:00:00</th>\n",
              "      <td>0.125905</td>\n",
              "      <td>0.275391</td>\n",
              "      <td>41.192631</td>\n",
              "      <td>5.107017</td>\n",
              "      <td>99.81</td>\n",
              "      <td>322.52</td>\n",
              "      <td>1165</td>\n",
              "      <td>5.552635e+05</td>\n",
              "    </tr>\n",
              "    <tr>\n",
              "      <th>2017-01-01 01:00:00</th>\n",
              "      <td>0.227239</td>\n",
              "      <td>0.334206</td>\n",
              "      <td>41.333620</td>\n",
              "      <td>5.185344</td>\n",
              "      <td>99.00</td>\n",
              "      <td>319.42</td>\n",
              "      <td>1437</td>\n",
              "      <td>5.552646e+05</td>\n",
              "    </tr>\n",
              "    <tr>\n",
              "      <th>2017-01-01 02:00:00</th>\n",
              "      <td>0.328573</td>\n",
              "      <td>0.393020</td>\n",
              "      <td>41.474609</td>\n",
              "      <td>5.263672</td>\n",
              "      <td>98.00</td>\n",
              "      <td>322.35</td>\n",
              "      <td>1402</td>\n",
              "      <td>5.552652e+05</td>\n",
              "    </tr>\n",
              "    <tr>\n",
              "      <th>2017-01-01 03:00:00</th>\n",
              "      <td>0.429907</td>\n",
              "      <td>0.451835</td>\n",
              "      <td>41.615598</td>\n",
              "      <td>5.341999</td>\n",
              "      <td>100.00</td>\n",
              "      <td>324.80</td>\n",
              "      <td>1365</td>\n",
              "      <td>5.552641e+05</td>\n",
              "    </tr>\n",
              "    <tr>\n",
              "      <th>2017-01-01 04:00:00</th>\n",
              "      <td>0.531242</td>\n",
              "      <td>0.510649</td>\n",
              "      <td>41.756587</td>\n",
              "      <td>5.420326</td>\n",
              "      <td>100.00</td>\n",
              "      <td>322.77</td>\n",
              "      <td>1344</td>\n",
              "      <td>5.552651e+05</td>\n",
              "    </tr>\n",
              "    <tr>\n",
              "      <th>...</th>\n",
              "      <td>...</td>\n",
              "      <td>...</td>\n",
              "      <td>...</td>\n",
              "      <td>...</td>\n",
              "      <td>...</td>\n",
              "      <td>...</td>\n",
              "      <td>...</td>\n",
              "      <td>...</td>\n",
              "    </tr>\n",
              "    <tr>\n",
              "      <th>2017-12-31 18:00:00</th>\n",
              "      <td>-0.978869</td>\n",
              "      <td>-0.891097</td>\n",
              "      <td>15.385695</td>\n",
              "      <td>-9.230170</td>\n",
              "      <td>68.81</td>\n",
              "      <td>198.48</td>\n",
              "      <td>2505</td>\n",
              "      <td>1.282277e+06</td>\n",
              "    </tr>\n",
              "    <tr>\n",
              "      <th>2017-12-31 19:00:00</th>\n",
              "      <td>-1.054464</td>\n",
              "      <td>-0.975144</td>\n",
              "      <td>13.923586</td>\n",
              "      <td>-10.042452</td>\n",
              "      <td>72.12</td>\n",
              "      <td>200.30</td>\n",
              "      <td>2614</td>\n",
              "      <td>1.282256e+06</td>\n",
              "    </tr>\n",
              "    <tr>\n",
              "      <th>2017-12-31 20:00:00</th>\n",
              "      <td>-0.662855</td>\n",
              "      <td>-0.964197</td>\n",
              "      <td>13.218852</td>\n",
              "      <td>-10.433971</td>\n",
              "      <td>74.81</td>\n",
              "      <td>209.88</td>\n",
              "      <td>2633</td>\n",
              "      <td>1.282243e+06</td>\n",
              "    </tr>\n",
              "    <tr>\n",
              "      <th>2017-12-31 21:00:00</th>\n",
              "      <td>-0.333437</td>\n",
              "      <td>-0.750432</td>\n",
              "      <td>12.628234</td>\n",
              "      <td>-10.762092</td>\n",
              "      <td>77.25</td>\n",
              "      <td>209.35</td>\n",
              "      <td>2632</td>\n",
              "      <td>1.282246e+06</td>\n",
              "    </tr>\n",
              "    <tr>\n",
              "      <th>2017-12-31 22:00:00</th>\n",
              "      <td>-0.069516</td>\n",
              "      <td>-0.460188</td>\n",
              "      <td>12.037616</td>\n",
              "      <td>-11.090213</td>\n",
              "      <td>78.69</td>\n",
              "      <td>210.58</td>\n",
              "      <td>2648</td>\n",
              "      <td>1.282247e+06</td>\n",
              "    </tr>\n",
              "  </tbody>\n",
              "</table>\n",
              "<p>8759 rows × 8 columns</p>\n",
              "</div>\n",
              "      <button class=\"colab-df-convert\" onclick=\"convertToInteractive('df-a44b848c-9424-4c02-950e-b13e30405137')\"\n",
              "              title=\"Convert this dataframe to an interactive table.\"\n",
              "              style=\"display:none;\">\n",
              "        \n",
              "  <svg xmlns=\"http://www.w3.org/2000/svg\" height=\"24px\"viewBox=\"0 0 24 24\"\n",
              "       width=\"24px\">\n",
              "    <path d=\"M0 0h24v24H0V0z\" fill=\"none\"/>\n",
              "    <path d=\"M18.56 5.44l.94 2.06.94-2.06 2.06-.94-2.06-.94-.94-2.06-.94 2.06-2.06.94zm-11 1L8.5 8.5l.94-2.06 2.06-.94-2.06-.94L8.5 2.5l-.94 2.06-2.06.94zm10 10l.94 2.06.94-2.06 2.06-.94-2.06-.94-.94-2.06-.94 2.06-2.06.94z\"/><path d=\"M17.41 7.96l-1.37-1.37c-.4-.4-.92-.59-1.43-.59-.52 0-1.04.2-1.43.59L10.3 9.45l-7.72 7.72c-.78.78-.78 2.05 0 2.83L4 21.41c.39.39.9.59 1.41.59.51 0 1.02-.2 1.41-.59l7.78-7.78 2.81-2.81c.8-.78.8-2.07 0-2.86zM5.41 20L4 18.59l7.72-7.72 1.47 1.35L5.41 20z\"/>\n",
              "  </svg>\n",
              "      </button>\n",
              "      \n",
              "  <style>\n",
              "    .colab-df-container {\n",
              "      display:flex;\n",
              "      flex-wrap:wrap;\n",
              "      gap: 12px;\n",
              "    }\n",
              "\n",
              "    .colab-df-convert {\n",
              "      background-color: #E8F0FE;\n",
              "      border: none;\n",
              "      border-radius: 50%;\n",
              "      cursor: pointer;\n",
              "      display: none;\n",
              "      fill: #1967D2;\n",
              "      height: 32px;\n",
              "      padding: 0 0 0 0;\n",
              "      width: 32px;\n",
              "    }\n",
              "\n",
              "    .colab-df-convert:hover {\n",
              "      background-color: #E2EBFA;\n",
              "      box-shadow: 0px 1px 2px rgba(60, 64, 67, 0.3), 0px 1px 3px 1px rgba(60, 64, 67, 0.15);\n",
              "      fill: #174EA6;\n",
              "    }\n",
              "\n",
              "    [theme=dark] .colab-df-convert {\n",
              "      background-color: #3B4455;\n",
              "      fill: #D2E3FC;\n",
              "    }\n",
              "\n",
              "    [theme=dark] .colab-df-convert:hover {\n",
              "      background-color: #434B5C;\n",
              "      box-shadow: 0px 1px 3px 1px rgba(0, 0, 0, 0.15);\n",
              "      filter: drop-shadow(0px 1px 2px rgba(0, 0, 0, 0.3));\n",
              "      fill: #FFFFFF;\n",
              "    }\n",
              "  </style>\n",
              "\n",
              "      <script>\n",
              "        const buttonEl =\n",
              "          document.querySelector('#df-a44b848c-9424-4c02-950e-b13e30405137 button.colab-df-convert');\n",
              "        buttonEl.style.display =\n",
              "          google.colab.kernel.accessAllowed ? 'block' : 'none';\n",
              "\n",
              "        async function convertToInteractive(key) {\n",
              "          const element = document.querySelector('#df-a44b848c-9424-4c02-950e-b13e30405137');\n",
              "          const dataTable =\n",
              "            await google.colab.kernel.invokeFunction('convertToInteractive',\n",
              "                                                     [key], {});\n",
              "          if (!dataTable) return;\n",
              "\n",
              "          const docLinkHtml = 'Like what you see? Visit the ' +\n",
              "            '<a target=\"_blank\" href=https://colab.research.google.com/notebooks/data_table.ipynb>data table notebook</a>'\n",
              "            + ' to learn more about interactive tables.';\n",
              "          element.innerHTML = '';\n",
              "          dataTable['output_type'] = 'display_data';\n",
              "          await google.colab.output.renderOutput(dataTable, element);\n",
              "          const docLink = document.createElement('div');\n",
              "          docLink.innerHTML = docLinkHtml;\n",
              "          element.appendChild(docLink);\n",
              "        }\n",
              "      </script>\n",
              "    </div>\n",
              "  </div>\n",
              "  "
            ]
          },
          "metadata": {},
          "execution_count": 7
        }
      ]
    },
    {
      "cell_type": "code",
      "source": [
        ""
      ],
      "metadata": {
        "trusted": true,
        "id": "UbppmdYrrtTQ"
      },
      "execution_count": null,
      "outputs": []
    },
    {
      "cell_type": "code",
      "source": [
        "# df.drop(['Year',\"Month\",\"Day\",\"Hour\",\"Minute\"],axis=1,inplace=True)"
      ],
      "metadata": {
        "execution": {
          "iopub.status.busy": "2022-04-12T00:42:38.62552Z",
          "iopub.execute_input": "2022-04-12T00:42:38.62607Z",
          "iopub.status.idle": "2022-04-12T00:42:38.648525Z",
          "shell.execute_reply.started": "2022-04-12T00:42:38.626035Z",
          "shell.execute_reply": "2022-04-12T00:42:38.647239Z"
        },
        "trusted": true,
        "id": "mxfDtVMWrtTQ"
      },
      "execution_count": null,
      "outputs": []
    },
    {
      "cell_type": "code",
      "source": [
        "df.isnull().sum()\n"
      ],
      "metadata": {
        "execution": {
          "iopub.status.busy": "2022-04-12T00:42:41.17469Z",
          "iopub.execute_input": "2022-04-12T00:42:41.175033Z",
          "iopub.status.idle": "2022-04-12T00:42:41.186662Z",
          "shell.execute_reply.started": "2022-04-12T00:42:41.174997Z",
          "shell.execute_reply": "2022-04-12T00:42:41.185423Z"
        },
        "trusted": true,
        "id": "7VNSDM29rtTR",
        "colab": {
          "base_uri": "https://localhost:8080/"
        },
        "outputId": "8b0b80eb-628a-4888-d10a-c53945563d47"
      },
      "execution_count": null,
      "outputs": [
        {
          "output_type": "execute_result",
          "data": {
            "text/plain": [
              "POAI                   0\n",
              "GHI                    0\n",
              "TmpF                 194\n",
              "TmpC                   0\n",
              "RH2M                   0\n",
              "ALLSKY_SFC_LW_DWN      0\n",
              "EKPC_MW                0\n",
              "solar_generation     167\n",
              "dtype: int64"
            ]
          },
          "metadata": {},
          "execution_count": 9
        }
      ]
    },
    {
      "cell_type": "code",
      "source": [
        "#replacing nan value with mean of columns\n",
        "# df['kWh'].fillna(value=df['kWh'].mean(), inplace=True)\n",
        "df['POAI'].fillna(value=df['POAI'].mean(), inplace=True)\n",
        "df['GHI'].fillna(value=df['GHI'].mean(), inplace=True)\n",
        "df['TmpC'].fillna(value=df['TmpC'].mean(), inplace=True)\n",
        "# df['ALLSKY_SFC_SW_DWN'].fillna(value=df['ALLSKY_SFC_SW_DWN'].mean(), inplace=True)\n",
        "# df['ALLSKY_SFC_UVB'].fillna(value=df['ALLSKY_SFC_UVB'].mean(), inplace=True)\n",
        "# df['ALLSKY_SFC_UVA'].fillna(value=df['ALLSKY_SFC_UVA'].mean(), inplace=True)\n",
        "# df['T2M'].fillna(value=df['T2M'].mean(), inplace=True)\n",
        "# df['T2MWET'].fillna(value=df['T2MWET'].mean(), inplace=True)\n",
        "# df['PRECTOTCORR'].fillna(value=df['PRECTOTCORR'].mean(), inplace=True)\n",
        "# df['CLRSKY_SFC_SW_DWN'].fillna(value=df['CLRSKY_SFC_SW_DWN'].mean(), inplace=True)\n",
        "# df['SZA'].fillna(value=df['SZA'].mean(), inplace=True)\n",
        "\n",
        "\n",
        "\n",
        "\n",
        "df['solar_generation'].fillna(value=df['solar_generation'].mean(), inplace=True)"
      ],
      "metadata": {
        "execution": {
          "iopub.status.busy": "2022-04-12T00:44:11.894957Z",
          "iopub.execute_input": "2022-04-12T00:44:11.895853Z",
          "iopub.status.idle": "2022-04-12T00:44:11.911535Z",
          "shell.execute_reply.started": "2022-04-12T00:44:11.89579Z",
          "shell.execute_reply": "2022-04-12T00:44:11.910509Z"
        },
        "trusted": true,
        "id": "ggw3WLD7rtTR"
      },
      "execution_count": null,
      "outputs": []
    },
    {
      "cell_type": "code",
      "source": [
        "# df['solar_generation'] = df['kW']+df['kWh']/24\n"
      ],
      "metadata": {
        "execution": {
          "iopub.status.busy": "2022-04-12T00:44:35.955566Z",
          "iopub.execute_input": "2022-04-12T00:44:35.955931Z",
          "iopub.status.idle": "2022-04-12T00:44:35.971464Z",
          "shell.execute_reply.started": "2022-04-12T00:44:35.955891Z",
          "shell.execute_reply": "2022-04-12T00:44:35.97025Z"
        },
        "trusted": true,
        "id": "gCLwzsportTS"
      },
      "execution_count": null,
      "outputs": []
    },
    {
      "cell_type": "code",
      "source": [
        "df.drop([\"EKPC_MW\",'TmpF'],axis=1,inplace=True)"
      ],
      "metadata": {
        "execution": {
          "iopub.status.busy": "2022-04-12T00:49:20.216593Z",
          "iopub.execute_input": "2022-04-12T00:49:20.21696Z",
          "iopub.status.idle": "2022-04-12T00:49:20.249985Z",
          "shell.execute_reply.started": "2022-04-12T00:49:20.216924Z",
          "shell.execute_reply": "2022-04-12T00:49:20.248991Z"
        },
        "trusted": true,
        "id": "tBpdWtCZrtTS"
      },
      "execution_count": null,
      "outputs": []
    },
    {
      "cell_type": "code",
      "source": [
        "# daily_groups = df.resample('D')\n",
        "daily_groups = df.resample('D')\n",
        "df = daily_groups.mean()"
      ],
      "metadata": {
        "execution": {
          "iopub.status.busy": "2022-04-12T00:49:23.914507Z",
          "iopub.execute_input": "2022-04-12T00:49:23.914821Z",
          "iopub.status.idle": "2022-04-12T00:49:23.936596Z",
          "shell.execute_reply.started": "2022-04-12T00:49:23.91479Z",
          "shell.execute_reply": "2022-04-12T00:49:23.935618Z"
        },
        "trusted": true,
        "id": "Dffdwsr-rtTT"
      },
      "execution_count": null,
      "outputs": []
    },
    {
      "cell_type": "code",
      "source": [
        "# df_new = pd.DataFrame()\n",
        "# df_new['GHI']=df_ghi\n",
        "# df_new['TmpC']=df_Tmp\n",
        "# df_new['Solar_gen']=df_solar\n",
        "# df_new['poai']=df_poai"
      ],
      "metadata": {
        "execution": {
          "iopub.status.busy": "2022-04-11T08:22:13.15042Z",
          "iopub.execute_input": "2022-04-11T08:22:13.150895Z",
          "iopub.status.idle": "2022-04-11T08:22:13.154315Z",
          "shell.execute_reply.started": "2022-04-11T08:22:13.150848Z",
          "shell.execute_reply": "2022-04-11T08:22:13.153444Z"
        },
        "trusted": true,
        "id": "MaXtXF6WrtTT"
      },
      "execution_count": null,
      "outputs": []
    },
    {
      "cell_type": "code",
      "source": [
        "df.head()\n",
        "# df_new.to_csv('hourly_data.csv')"
      ],
      "metadata": {
        "execution": {
          "iopub.status.busy": "2022-04-12T00:49:34.264732Z",
          "iopub.execute_input": "2022-04-12T00:49:34.265097Z",
          "iopub.status.idle": "2022-04-12T00:49:34.279388Z",
          "shell.execute_reply.started": "2022-04-12T00:49:34.265049Z",
          "shell.execute_reply": "2022-04-12T00:49:34.278648Z"
        },
        "trusted": true,
        "id": "odvyXuNmrtTU",
        "colab": {
          "base_uri": "https://localhost:8080/",
          "height": 237
        },
        "outputId": "cb6fd92e-c0f7-4ef5-e87a-beaadf2a8e1b"
      },
      "execution_count": null,
      "outputs": [
        {
          "output_type": "execute_result",
          "data": {
            "text/plain": [
              "                  POAI         GHI       TmpC       RH2M  ALLSKY_SFC_LW_DWN  \\\n",
              "Timestamp                                                                     \n",
              "2017-01-01   29.792090   30.240796   6.787800  95.215000         327.026250   \n",
              "2017-01-02   38.425344   37.795246  12.609035  94.974583         334.139167   \n",
              "2017-01-03   24.328519   24.796402  13.082318  94.717083         349.790000   \n",
              "2017-01-04  190.488477  128.726044   0.211108  70.852083         240.212083   \n",
              "2017-01-05   33.378624   33.096431  -4.715096  73.495000         278.391667   \n",
              "\n",
              "            solar_generation  \n",
              "Timestamp                     \n",
              "2017-01-01     555821.100992  \n",
              "2017-01-02     556348.974354  \n",
              "2017-01-03     556556.717817  \n",
              "2017-01-04     559778.910658  \n",
              "2017-01-05     558881.865904  "
            ],
            "text/html": [
              "\n",
              "  <div id=\"df-ac3cb01d-12b6-4f5a-937b-12133d8179a9\">\n",
              "    <div class=\"colab-df-container\">\n",
              "      <div>\n",
              "<style scoped>\n",
              "    .dataframe tbody tr th:only-of-type {\n",
              "        vertical-align: middle;\n",
              "    }\n",
              "\n",
              "    .dataframe tbody tr th {\n",
              "        vertical-align: top;\n",
              "    }\n",
              "\n",
              "    .dataframe thead th {\n",
              "        text-align: right;\n",
              "    }\n",
              "</style>\n",
              "<table border=\"1\" class=\"dataframe\">\n",
              "  <thead>\n",
              "    <tr style=\"text-align: right;\">\n",
              "      <th></th>\n",
              "      <th>POAI</th>\n",
              "      <th>GHI</th>\n",
              "      <th>TmpC</th>\n",
              "      <th>RH2M</th>\n",
              "      <th>ALLSKY_SFC_LW_DWN</th>\n",
              "      <th>solar_generation</th>\n",
              "    </tr>\n",
              "    <tr>\n",
              "      <th>Timestamp</th>\n",
              "      <th></th>\n",
              "      <th></th>\n",
              "      <th></th>\n",
              "      <th></th>\n",
              "      <th></th>\n",
              "      <th></th>\n",
              "    </tr>\n",
              "  </thead>\n",
              "  <tbody>\n",
              "    <tr>\n",
              "      <th>2017-01-01</th>\n",
              "      <td>29.792090</td>\n",
              "      <td>30.240796</td>\n",
              "      <td>6.787800</td>\n",
              "      <td>95.215000</td>\n",
              "      <td>327.026250</td>\n",
              "      <td>555821.100992</td>\n",
              "    </tr>\n",
              "    <tr>\n",
              "      <th>2017-01-02</th>\n",
              "      <td>38.425344</td>\n",
              "      <td>37.795246</td>\n",
              "      <td>12.609035</td>\n",
              "      <td>94.974583</td>\n",
              "      <td>334.139167</td>\n",
              "      <td>556348.974354</td>\n",
              "    </tr>\n",
              "    <tr>\n",
              "      <th>2017-01-03</th>\n",
              "      <td>24.328519</td>\n",
              "      <td>24.796402</td>\n",
              "      <td>13.082318</td>\n",
              "      <td>94.717083</td>\n",
              "      <td>349.790000</td>\n",
              "      <td>556556.717817</td>\n",
              "    </tr>\n",
              "    <tr>\n",
              "      <th>2017-01-04</th>\n",
              "      <td>190.488477</td>\n",
              "      <td>128.726044</td>\n",
              "      <td>0.211108</td>\n",
              "      <td>70.852083</td>\n",
              "      <td>240.212083</td>\n",
              "      <td>559778.910658</td>\n",
              "    </tr>\n",
              "    <tr>\n",
              "      <th>2017-01-05</th>\n",
              "      <td>33.378624</td>\n",
              "      <td>33.096431</td>\n",
              "      <td>-4.715096</td>\n",
              "      <td>73.495000</td>\n",
              "      <td>278.391667</td>\n",
              "      <td>558881.865904</td>\n",
              "    </tr>\n",
              "  </tbody>\n",
              "</table>\n",
              "</div>\n",
              "      <button class=\"colab-df-convert\" onclick=\"convertToInteractive('df-ac3cb01d-12b6-4f5a-937b-12133d8179a9')\"\n",
              "              title=\"Convert this dataframe to an interactive table.\"\n",
              "              style=\"display:none;\">\n",
              "        \n",
              "  <svg xmlns=\"http://www.w3.org/2000/svg\" height=\"24px\"viewBox=\"0 0 24 24\"\n",
              "       width=\"24px\">\n",
              "    <path d=\"M0 0h24v24H0V0z\" fill=\"none\"/>\n",
              "    <path d=\"M18.56 5.44l.94 2.06.94-2.06 2.06-.94-2.06-.94-.94-2.06-.94 2.06-2.06.94zm-11 1L8.5 8.5l.94-2.06 2.06-.94-2.06-.94L8.5 2.5l-.94 2.06-2.06.94zm10 10l.94 2.06.94-2.06 2.06-.94-2.06-.94-.94-2.06-.94 2.06-2.06.94z\"/><path d=\"M17.41 7.96l-1.37-1.37c-.4-.4-.92-.59-1.43-.59-.52 0-1.04.2-1.43.59L10.3 9.45l-7.72 7.72c-.78.78-.78 2.05 0 2.83L4 21.41c.39.39.9.59 1.41.59.51 0 1.02-.2 1.41-.59l7.78-7.78 2.81-2.81c.8-.78.8-2.07 0-2.86zM5.41 20L4 18.59l7.72-7.72 1.47 1.35L5.41 20z\"/>\n",
              "  </svg>\n",
              "      </button>\n",
              "      \n",
              "  <style>\n",
              "    .colab-df-container {\n",
              "      display:flex;\n",
              "      flex-wrap:wrap;\n",
              "      gap: 12px;\n",
              "    }\n",
              "\n",
              "    .colab-df-convert {\n",
              "      background-color: #E8F0FE;\n",
              "      border: none;\n",
              "      border-radius: 50%;\n",
              "      cursor: pointer;\n",
              "      display: none;\n",
              "      fill: #1967D2;\n",
              "      height: 32px;\n",
              "      padding: 0 0 0 0;\n",
              "      width: 32px;\n",
              "    }\n",
              "\n",
              "    .colab-df-convert:hover {\n",
              "      background-color: #E2EBFA;\n",
              "      box-shadow: 0px 1px 2px rgba(60, 64, 67, 0.3), 0px 1px 3px 1px rgba(60, 64, 67, 0.15);\n",
              "      fill: #174EA6;\n",
              "    }\n",
              "\n",
              "    [theme=dark] .colab-df-convert {\n",
              "      background-color: #3B4455;\n",
              "      fill: #D2E3FC;\n",
              "    }\n",
              "\n",
              "    [theme=dark] .colab-df-convert:hover {\n",
              "      background-color: #434B5C;\n",
              "      box-shadow: 0px 1px 3px 1px rgba(0, 0, 0, 0.15);\n",
              "      filter: drop-shadow(0px 1px 2px rgba(0, 0, 0, 0.3));\n",
              "      fill: #FFFFFF;\n",
              "    }\n",
              "  </style>\n",
              "\n",
              "      <script>\n",
              "        const buttonEl =\n",
              "          document.querySelector('#df-ac3cb01d-12b6-4f5a-937b-12133d8179a9 button.colab-df-convert');\n",
              "        buttonEl.style.display =\n",
              "          google.colab.kernel.accessAllowed ? 'block' : 'none';\n",
              "\n",
              "        async function convertToInteractive(key) {\n",
              "          const element = document.querySelector('#df-ac3cb01d-12b6-4f5a-937b-12133d8179a9');\n",
              "          const dataTable =\n",
              "            await google.colab.kernel.invokeFunction('convertToInteractive',\n",
              "                                                     [key], {});\n",
              "          if (!dataTable) return;\n",
              "\n",
              "          const docLinkHtml = 'Like what you see? Visit the ' +\n",
              "            '<a target=\"_blank\" href=https://colab.research.google.com/notebooks/data_table.ipynb>data table notebook</a>'\n",
              "            + ' to learn more about interactive tables.';\n",
              "          element.innerHTML = '';\n",
              "          dataTable['output_type'] = 'display_data';\n",
              "          await google.colab.output.renderOutput(dataTable, element);\n",
              "          const docLink = document.createElement('div');\n",
              "          docLink.innerHTML = docLinkHtml;\n",
              "          element.appendChild(docLink);\n",
              "        }\n",
              "      </script>\n",
              "    </div>\n",
              "  </div>\n",
              "  "
            ]
          },
          "metadata": {},
          "execution_count": 15
        }
      ]
    },
    {
      "cell_type": "code",
      "source": [
        "# df=df_new\n",
        "df.info()"
      ],
      "metadata": {
        "execution": {
          "iopub.status.busy": "2022-04-11T08:22:13.325372Z",
          "iopub.execute_input": "2022-04-11T08:22:13.326122Z",
          "iopub.status.idle": "2022-04-11T08:22:13.342979Z",
          "shell.execute_reply.started": "2022-04-11T08:22:13.326074Z",
          "shell.execute_reply": "2022-04-11T08:22:13.342145Z"
        },
        "trusted": true,
        "id": "aQw_4gv1rtTU",
        "colab": {
          "base_uri": "https://localhost:8080/"
        },
        "outputId": "527570e2-2647-4ce5-e5a0-53ed2bdd7ed9"
      },
      "execution_count": null,
      "outputs": [
        {
          "output_type": "stream",
          "name": "stdout",
          "text": [
            "<class 'pandas.core.frame.DataFrame'>\n",
            "DatetimeIndex: 365 entries, 2017-01-01 to 2017-12-31\n",
            "Freq: D\n",
            "Data columns (total 6 columns):\n",
            " #   Column             Non-Null Count  Dtype  \n",
            "---  ------             --------------  -----  \n",
            " 0   POAI               365 non-null    float64\n",
            " 1   GHI                365 non-null    float64\n",
            " 2   TmpC               365 non-null    float64\n",
            " 3   RH2M               365 non-null    float64\n",
            " 4   ALLSKY_SFC_LW_DWN  365 non-null    float64\n",
            " 5   solar_generation   365 non-null    float64\n",
            "dtypes: float64(6)\n",
            "memory usage: 20.0 KB\n"
          ]
        }
      ]
    },
    {
      "cell_type": "code",
      "source": [
        "import seaborn as sns\n",
        "import matplotlib.pyplot as plt\n",
        "\n",
        "fig, ax = plt.subplots(figsize=(12,12))\n",
        "Var_Corr = df.corr()\n",
        "# plot the heatmap and annotation on it\n",
        "sns.heatmap(Var_Corr, xticklabels=Var_Corr.columns, yticklabels=Var_Corr.columns, annot=True)"
      ],
      "metadata": {
        "execution": {
          "iopub.status.busy": "2022-04-12T00:49:43.642493Z",
          "iopub.execute_input": "2022-04-12T00:49:43.643351Z",
          "iopub.status.idle": "2022-04-12T00:49:45.209379Z",
          "shell.execute_reply.started": "2022-04-12T00:49:43.643307Z",
          "shell.execute_reply": "2022-04-12T00:49:45.208187Z"
        },
        "trusted": true,
        "id": "sgRDfRWPrtTU",
        "colab": {
          "base_uri": "https://localhost:8080/",
          "height": 822
        },
        "outputId": "17d347c7-b8cf-4c22-efcb-977c62d6d43a"
      },
      "execution_count": null,
      "outputs": [
        {
          "output_type": "execute_result",
          "data": {
            "text/plain": [
              "<matplotlib.axes._subplots.AxesSubplot at 0x7faf45e3de50>"
            ]
          },
          "metadata": {},
          "execution_count": 17
        },
        {
          "output_type": "display_data",
          "data": {
            "text/plain": [
              "<Figure size 864x864 with 2 Axes>"
            ],
            "image/png": "[encoded data removed]"
          },
          "metadata": {
            "needs_background": "light"
          }
        }
      ]
    },
    {
      "cell_type": "code",
      "source": [
        "# Var_Corr[Var_Corr['generation solar'] < -0.05].colum\n",
        "# Var_Corr['generation solar']<-0.05\n",
        "corr_value=[2,3,4,5]\n",
        "out_value=[5]"
      ],
      "metadata": {
        "execution": {
          "iopub.status.busy": "2022-04-12T00:50:25.774833Z",
          "iopub.execute_input": "2022-04-12T00:50:25.775214Z",
          "iopub.status.idle": "2022-04-12T00:50:25.7808Z",
          "shell.execute_reply.started": "2022-04-12T00:50:25.775177Z",
          "shell.execute_reply": "2022-04-12T00:50:25.779685Z"
        },
        "trusted": true,
        "id": "fyaA3e_xrtTV"
      },
      "execution_count": null,
      "outputs": []
    },
    {
      "cell_type": "code",
      "source": [
        "len(df)"
      ],
      "metadata": {
        "execution": {
          "iopub.status.busy": "2022-04-12T00:50:29.466404Z",
          "iopub.execute_input": "2022-04-12T00:50:29.466698Z",
          "iopub.status.idle": "2022-04-12T00:50:29.474147Z",
          "shell.execute_reply.started": "2022-04-12T00:50:29.466667Z",
          "shell.execute_reply": "2022-04-12T00:50:29.473004Z"
        },
        "trusted": true,
        "id": "7Ko_vEBurtTV",
        "colab": {
          "base_uri": "https://localhost:8080/"
        },
        "outputId": "d5c36b36-e539-4583-92fd-db2a26ee4266"
      },
      "execution_count": null,
      "outputs": [
        {
          "output_type": "execute_result",
          "data": {
            "text/plain": [
              "365"
            ]
          },
          "metadata": {},
          "execution_count": 19
        }
      ]
    },
    {
      "cell_type": "code",
      "source": [
        "# split a univariate dataset into train/test sets\n",
        "def split_dataset(data,output=7):\n",
        "\t# split into standard weeks\n",
        "\ti=0\n",
        "\twhile i > -output:\n",
        "\t\ti=i-7\n",
        "\tj=-i\n",
        "\twhile j>0:\n",
        "\t\tj=j-7\n",
        "  # print(i)\n",
        "  # print(j)\n",
        "\ttrain, test = data[j+8:i], data[i:]\n",
        "\t# restructure into windows of weekly data\n",
        "\ttrain = array(split(train, len(train)/7))\n",
        "\ttest = array(split(test, len(test)/7))\n",
        "\treturn train,test"
      ],
      "metadata": {
        "execution": {
          "iopub.status.busy": "2022-04-12T00:51:43.095497Z",
          "iopub.execute_input": "2022-04-12T00:51:43.095854Z",
          "iopub.status.idle": "2022-04-12T00:51:43.102649Z",
          "shell.execute_reply.started": "2022-04-12T00:51:43.095802Z",
          "shell.execute_reply": "2022-04-12T00:51:43.101933Z"
        },
        "trusted": true,
        "id": "WLsn_JBgrtTW"
      },
      "execution_count": null,
      "outputs": []
    },
    {
      "cell_type": "code",
      "source": [
        "from math import sqrt\n",
        "from numpy import split\n",
        "from numpy import array\n",
        "from pandas import read_csv\n",
        "from sklearn.metrics import mean_squared_error\n",
        "from matplotlib import pyplot\n",
        "from keras.models import Sequential\n",
        "from keras.layers import Dense\n",
        "from keras.layers import Flatten\n",
        "from keras.layers import LSTM\n",
        "from keras.layers import RepeatVector\n",
        "from keras.layers import TimeDistributed\n",
        "from sklearn.metrics import mean_absolute_percentage_error\n",
        "\n",
        "# evaluate one or more weekly forecasts against expected values\n",
        "def evaluate_forecasts(actual, predicted):\n",
        "\tscores = list()\n",
        "\t# calculate an RMSE score for each day\n",
        "\tfor i in range(actual.shape[1]):\n",
        "\t\t# calculate mse\n",
        "\t\tmse = mean_squared_error(actual[:, i], predicted[:, i])\n",
        "\t\t# calculate rmse\n",
        "\t\trmse = sqrt(mse)\n",
        "\t\t# store\n",
        "\t\tscores.append(rmse)\n",
        "\t# calculate overall RMSE\n",
        "\ts = 0\n",
        "\tfor row in range(actual.shape[0]):\n",
        "\t\tfor col in range(actual.shape[1]):\n",
        "\t\t\ts += (actual[row, col] - predicted[row, col])**2\n",
        "\tscore = sqrt(s / (actual.shape[0] * actual.shape[1]))\n",
        "\treturn score, scores\n",
        " \n",
        "# summarize scores\n",
        "def summarize_scores(name, score, scores):\n",
        "\ts_scores = ', '.join(['%.1f' % s for s in scores])\n",
        "\tprint('%s: [%.3f] %s' % (name, score, s_scores))\n",
        " \n",
        "# convert history into inputs and outputs\n",
        "def to_supervised(train, n_input, n_out=7):\n",
        "\t# flatten data\n",
        "\tdata = train.reshape((train.shape[0]*train.shape[1], train.shape[2]))\n",
        "\tX, y = list(), list()\n",
        "\tin_start = 0\n",
        "\t# step over the entire history one time step at a time\n",
        "\tfor _ in range(len(data)):\n",
        "\t\t# define the end of the input sequence\n",
        "\t\tin_end = in_start + n_input\n",
        "\t\tout_end = in_end + n_out\n",
        "\t\t# ensure we have enough data for this instance\n",
        "\t\tif out_end <= len(data):\n",
        "\t\t\tX.append(data[in_start:in_end, corr_value])\n",
        "\t\t\ty.append(data[in_end:out_end, out_value])\n",
        "\t\t# move along one time step\n",
        "\t\tin_start += 1\n",
        "\treturn array(X), array(y)\n",
        " \n",
        "# train the model\n",
        "def build_model(train, n_input):\n",
        "\t# prepare data\n",
        "\ttrain_x, train_y = to_supervised(train, n_input)\n",
        "\t# define parameters\n",
        "\tverbose, epochs, batch_size = 0, 50, 16\n",
        "\tn_timesteps, n_features, n_outputs = train_x.shape[1], train_x.shape[2], train_y.shape[1]\n",
        "\t# reshape output into [samples, timesteps, features]\n",
        "\ttrain_y = train_y.reshape((train_y.shape[0], train_y.shape[1], 1))\n",
        "\t# define model\n",
        "\tmodel = Sequential()\n",
        "\tmodel.add(LSTM(200, activation='relu', input_shape=(n_timesteps, n_features)))\n",
        "\tmodel.add(RepeatVector(n_outputs))\n",
        "\tmodel.add(LSTM(200, activation='relu', return_sequences=True))\n",
        "\tmodel.add(TimeDistributed(Dense(100, activation='relu')))\n",
        "\tmodel.add(TimeDistributed(Dense(1)))\n",
        "\tmodel.compile(loss='mse', optimizer='adam')\n",
        "\t# fit network\n",
        "\tmodel.fit(train_x, train_y, epochs=epochs, batch_size=batch_size, verbose=verbose)\n",
        "\treturn model\n",
        " \n",
        "# make a forecast\n",
        "def forecast(model, history, n_input):\n",
        "\t# flatten data\n",
        "\tdata = array(history)\n",
        "\tdata = data.reshape((data.shape[0]*data.shape[1], data.shape[2]))\n",
        "\t# retrieve last observations for input data\n",
        "\tinput_x = data[-n_input:, corr_value]\n",
        "\t# reshape into [1, n_input, n]\n",
        "\tinput_x = input_x.reshape((1, input_x.shape[0], input_x.shape[1]))\n",
        "\t# forecast the next week\n",
        "\tyhat = model.predict(input_x, verbose=0)\n",
        "\t# we only want the vector forecast\n",
        "\tyhat = yhat[0]\n",
        "\treturn yhat\n",
        " \n",
        "# evaluate a single model\n",
        "def evaluate_model(train, test, n_input):\n",
        "\t# fit model\n",
        "\tmodel = build_model(train, n_input)\n",
        "\t# history is a list of weekly data\n",
        "\thistory = [x for x in train]\n",
        "\t# walk-forward validation over each week\n",
        "\tpredictions = list()\n",
        "\tfor i in range(len(test)):\n",
        "\t\t# predict the week\n",
        "\t\tyhat_sequence = forecast(model, history, n_input)\n",
        "\t\t# store the predictions\n",
        "\t\tpredictions.append(yhat_sequence)\n",
        "\t\t# get real observation and add to history for predicting the next week\n",
        "\t\thistory.append(test[i, :])\n",
        "\t# evaluate predictions days for each week\n",
        "\tpredictions = array(predictions)\n",
        "\tscore, scores = evaluate_forecasts(test[:, :, out_value], predictions)\n",
        "\treturn predictions"
      ],
      "metadata": {
        "execution": {
          "iopub.status.busy": "2022-04-12T00:50:41.98932Z",
          "iopub.execute_input": "2022-04-12T00:50:41.990118Z",
          "iopub.status.idle": "2022-04-12T00:50:48.144716Z",
          "shell.execute_reply.started": "2022-04-12T00:50:41.990006Z",
          "shell.execute_reply": "2022-04-12T00:50:48.143821Z"
        },
        "trusted": true,
        "id": "ahWT-BA8rtTW"
      },
      "execution_count": null,
      "outputs": []
    },
    {
      "cell_type": "code",
      "source": [
        "# calculating precentage error\n",
        "def cal_error(y,x):\n",
        "    return mean_absolute_percentage_error(y,x)\n"
      ],
      "metadata": {
        "execution": {
          "iopub.status.busy": "2022-04-12T00:50:48.146549Z",
          "iopub.execute_input": "2022-04-12T00:50:48.146902Z",
          "iopub.status.idle": "2022-04-12T00:50:48.152301Z",
          "shell.execute_reply.started": "2022-04-12T00:50:48.146831Z",
          "shell.execute_reply": "2022-04-12T00:50:48.151166Z"
        },
        "trusted": true,
        "id": "3Z_GN662rtTX"
      },
      "execution_count": null,
      "outputs": []
    },
    {
      "cell_type": "code",
      "source": [
        "output=35\n",
        "train, test = split_dataset(df,output)\n",
        "model = build_model(train, n_input=7)"
      ],
      "metadata": {
        "execution": {
          "iopub.status.busy": "2022-04-12T00:51:47.964712Z",
          "iopub.execute_input": "2022-04-12T00:51:47.965209Z",
          "iopub.status.idle": "2022-04-12T00:51:55.758116Z",
          "shell.execute_reply.started": "2022-04-12T00:51:47.965171Z",
          "shell.execute_reply": "2022-04-12T00:51:55.757355Z"
        },
        "trusted": true,
        "id": "T2fNSnjNrtTY"
      },
      "execution_count": null,
      "outputs": []
    },
    {
      "cell_type": "code",
      "source": [
        "pred = evaluate_model(train,test, n_input=7)"
      ],
      "metadata": {
        "execution": {
          "iopub.status.busy": "2022-04-12T00:52:04.895498Z",
          "iopub.execute_input": "2022-04-12T00:52:04.896204Z",
          "iopub.status.idle": "2022-04-12T00:52:12.711777Z",
          "shell.execute_reply.started": "2022-04-12T00:52:04.896159Z",
          "shell.execute_reply": "2022-04-12T00:52:12.710971Z"
        },
        "trusted": true,
        "id": "jnV0KgNMrtTY"
      },
      "execution_count": null,
      "outputs": []
    },
    {
      "cell_type": "code",
      "source": [
        ""
      ],
      "metadata": {
        "id": "kLtFIjQWiUPA"
      },
      "execution_count": null,
      "outputs": []
    },
    {
      "cell_type": "code",
      "source": [
        "# print(score)\n",
        "# print(scores)"
      ],
      "metadata": {
        "execution": {
          "iopub.status.busy": "2022-04-11T08:43:50.317092Z",
          "iopub.execute_input": "2022-04-11T08:43:50.317389Z",
          "iopub.status.idle": "2022-04-11T08:43:50.321056Z",
          "shell.execute_reply.started": "2022-04-11T08:43:50.317348Z",
          "shell.execute_reply": "2022-04-11T08:43:50.320202Z"
        },
        "trusted": true,
        "id": "F-FGwQkBrtTZ"
      },
      "execution_count": null,
      "outputs": []
    },
    {
      "cell_type": "code",
      "source": [
        "test = test[:,:,out_value].reshape(test[:,:,out_value].shape[0]*test[:,:,out_value].shape[1])\n",
        "pred = pred[:,:].reshape(pred[:,:].shape[0]*pred[:,:].shape[1])"
      ],
      "metadata": {
        "execution": {
          "iopub.status.busy": "2022-04-12T00:52:17.724914Z",
          "iopub.execute_input": "2022-04-12T00:52:17.725347Z",
          "iopub.status.idle": "2022-04-12T00:52:17.730723Z",
          "shell.execute_reply.started": "2022-04-12T00:52:17.725315Z",
          "shell.execute_reply": "2022-04-12T00:52:17.729943Z"
        },
        "trusted": true,
        "id": "gJo9I28mrtTZ"
      },
      "execution_count": null,
      "outputs": []
    },
    {
      "cell_type": "code",
      "source": [
        "# print(test)\n",
        "# print(pred)\n",
        "print(\"percentage error is : \",cal_error(test,pred)*100)"
      ],
      "metadata": {
        "execution": {
          "iopub.status.busy": "2022-04-12T00:52:21.964992Z",
          "iopub.execute_input": "2022-04-12T00:52:21.965295Z",
          "iopub.status.idle": "2022-04-12T00:52:21.970704Z",
          "shell.execute_reply.started": "2022-04-12T00:52:21.965264Z",
          "shell.execute_reply": "2022-04-12T00:52:21.96994Z"
        },
        "trusted": true,
        "id": "HdBA3pC4rtTa",
        "colab": {
          "base_uri": "https://localhost:8080/"
        },
        "outputId": "6f11e37b-3a26-43e1-9ac0-04104158a1a5"
      },
      "execution_count": null,
      "outputs": [
        {
          "output_type": "stream",
          "name": "stdout",
          "text": [
            "percentage error is :  1.2942722967596674\n"
          ]
        }
      ]
    },
    {
      "cell_type": "markdown",
      "source": [
        ""
      ],
      "metadata": {
        "id": "DDKxbk5YrtTa"
      }
    },
    {
      "cell_type": "code",
      "source": [
        "plt.figure(figsize=(20,10))\n",
        "plt.plot(test)\n",
        "# test[:,:,10].shapecolab\n",
        "plt.plot(pred)\n",
        "plt.gca().legend(('actual','forecasted'))\n",
        "plt.show()\n"
      ],
      "metadata": {
        "execution": {
          "iopub.status.busy": "2022-04-12T00:52:26.854787Z",
          "iopub.execute_input": "2022-04-12T00:52:26.855129Z",
          "iopub.status.idle": "2022-04-12T00:52:27.12194Z",
          "shell.execute_reply.started": "2022-04-12T00:52:26.855097Z",
          "shell.execute_reply": "2022-04-12T00:52:27.120889Z"
        },
        "trusted": true,
        "id": "tKPT8zmRrtTc",
        "colab": {
          "base_uri": "https://localhost:8080/",
          "height": 571
        },
        "outputId": "87ba727f-054b-402d-e521-ea6d8e209657"
      },
      "execution_count": null,
      "outputs": [
        {
          "output_type": "display_data",
          "data": {
            "text/plain": [
              "<Figure size 1440x720 with 1 Axes>"
            ],
            "image/png": "[encoded data removed]"
          },
          "metadata": {
            "needs_background": "light"
          }
        }
      ]
    },
    {
      "cell_type": "code",
      "source": [
        "# output=pd.DataFrame([df.index[-35:] , test, pred])"
      ],
      "metadata": {
        "id": "ZKGk_e17rtTc"
      },
      "execution_count": null,
      "outputs": []
    },
    {
      "cell_type": "code",
      "source": [
        "# output.head(35)"
      ],
      "metadata": {
        "id": "2y9NMhrkrtTc"
      },
      "execution_count": null,
      "outputs": []
    },
    {
      "cell_type": "code",
      "source": [
        "# output.to_csv('final.csv')"
      ],
      "metadata": {
        "id": "_idxVsr1rtTc"
      },
      "execution_count": null,
      "outputs": []
    },
    {
      "cell_type": "code",
      "source": [
        ""
      ],
      "metadata": {
        "id": "nohCqxR2rtTd"
      },
      "execution_count": null,
      "outputs": []
    },
    {
      "cell_type": "code",
      "source": [
        ""
      ],
      "metadata": {
        "id": "8PdJXMvPrtTd"
      },
      "execution_count": null,
      "outputs": []
    },
    {
      "cell_type": "code",
      "source": [
        ""
      ],
      "metadata": {
        "id": "UsedGeGArtTd"
      },
      "execution_count": null,
      "outputs": []
    },
    {
      "cell_type": "code",
      "source": [
        ""
      ],
      "metadata": {
        "id": "hgojW1rzrtTd"
      },
      "execution_count": null,
      "outputs": []
    },
    {
      "cell_type": "code",
      "source": [
        ""
      ],
      "metadata": {
        "id": "TUcaK1KCrtTd"
      },
      "execution_count": null,
      "outputs": []
    }
  ]
}